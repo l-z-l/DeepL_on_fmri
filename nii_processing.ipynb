{
  "nbformat": 4,
  "nbformat_minor": 0,
  "metadata": {
    "colab": {
      "name": "Untitled1.ipynb",
      "provenance": [],
      "toc_visible": true
    },
    "kernelspec": {
      "name": "python3",
      "display_name": "Python 3"
    }
  },
  "cells": [
    {
      "cell_type": "code",
      "metadata": {
        "id": "kYKrSZWVSQ6S",
        "colab_type": "code",
        "colab": {}
      },
      "source": [
        "\"\"\"\n",
        "      ___     __   ___  \n",
        "     |_ _|   / /  / _ \\ \n",
        "      | |   / /  | (_) |\n",
        "     |___| /_/    \\___/  \n",
        "\"\"\""
      ],
      "execution_count": 0,
      "outputs": []
    },
    {
      "cell_type": "code",
      "metadata": {
        "id": "cWwzJmcMRTTK",
        "colab_type": "code",
        "colab": {}
      },
      "source": [
        "from glob import glob\n",
        "import os\n",
        "\n",
        "from nilearn import plotting, image, datasets\n",
        "from nilearn.image import resample_img, mean_img, concat_imgs\n",
        "import numpy as np"
      ],
      "execution_count": 0,
      "outputs": []
    },
    {
      "cell_type": "code",
      "metadata": {
        "id": "qTYj6hgdRV2N",
        "colab_type": "code",
        "colab": {}
      },
      "source": [
        "file = '/content/drive/My Drive/the path where u uploade to google drive' "
      ],
      "execution_count": 0,
      "outputs": []
    },
    {
      "cell_type": "code",
      "metadata": {
        "id": "svyvO4wqRXxx",
        "colab_type": "code",
        "colab": {}
      },
      "source": [
        "fmri_images = index_img(file, slice(0, 140)) # slice the exmaples"
      ],
      "execution_count": 0,
      "outputs": []
    },
    {
      "cell_type": "code",
      "metadata": {
        "id": "UgCor8CcSbbj",
        "colab_type": "code",
        "colab": {}
      },
      "source": [
        "mean_images = mean_img(fmri_images)"
      ],
      "execution_count": 0,
      "outputs": []
    },
    {
      "cell_type": "code",
      "metadata": {
        "id": "xSOmIjBiRiPW",
        "colab_type": "code",
        "colab": {}
      },
      "source": [
        "\"\"\"\n",
        "                            _    \n",
        "                           | |   \n",
        "     _ __ ___    __ _  ___ | | __\n",
        "    | '_ ` _ \\  / _` |/ __|| |/ /\n",
        "    | | | | | || (_| |\\__ \\|   < \n",
        "    |_| |_| |_| \\__,_||___/|_|\\_\\                       \n",
        "\"\"\""
      ],
      "execution_count": 0,
      "outputs": []
    },
    {
      "cell_type": "code",
      "metadata": {
        "id": "m4AqPAiMRytH",
        "colab_type": "code",
        "colab": {}
      },
      "source": [
        "from nilearn.input_data import NiftiMapsMasker, NiftiMasker, NiftiLabelsMasker\n",
        " \n",
        "# define a default mask\n",
        "masker = NiftiMasker(standardize=True, mask_strategy='epi',\n",
        "                           memory=\"nilearn_cache\", memory_level=5,\n",
        "                           smoothing_fwhm=8) # smooth the mask"
      ],
      "execution_count": 0,
      "outputs": []
    },
    {
      "cell_type": "code",
      "metadata": {
        "id": "_Rcv8U69R083",
        "colab_type": "code",
        "colab": {}
      },
      "source": [
        "# train the mask\n",
        "masker = masker.fit(first_file)\n",
        "plotting.plot_roi(masker.mask_img_, bg_img=mean_images, title=\"default mask\")"
      ],
      "execution_count": 0,
      "outputs": []
    },
    {
      "cell_type": "code",
      "metadata": {
        "id": "euSCPguaSnHY",
        "colab_type": "code",
        "colab": {}
      },
      "source": [
        "# check the mask parameters\n",
        "masker.generate_report().save_as_html(\"mask_report.html\")"
      ],
      "execution_count": 0,
      "outputs": []
    },
    {
      "cell_type": "code",
      "metadata": {
        "id": "ytvdTB02Srum",
        "colab_type": "code",
        "colab": {}
      },
      "source": [
        "# apply this model to data\n",
        "vol_masked = masker.transform(first_file)"
      ],
      "execution_count": 0,
      "outputs": []
    },
    {
      "cell_type": "code",
      "metadata": {
        "id": "urrlnAPGS1BK",
        "colab_type": "code",
        "colab": {}
      },
      "source": [
        "print(\"Trended: mean %.2f, std %.2f\" % (np.mean(vol_masked), np.std(vol_masked)))"
      ],
      "execution_count": 0,
      "outputs": []
    }
  ]
}