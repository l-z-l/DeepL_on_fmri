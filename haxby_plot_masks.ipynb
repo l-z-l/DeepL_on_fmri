{
 "cells": [
  {
   "cell_type": "code",
   "execution_count": 6,
   "metadata": {},
   "outputs": [
    {
     "name": "stdout",
     "output_type": "stream",
     "text": [
      "Requirement already satisfied: matplotlib in /usr/local/lib/python3.6/dist-packages\n",
      "Requirement already satisfied: python-dateutil>=2.1 in /root/.local/lib/python3.6/site-packages (from matplotlib)\n",
      "Requirement already satisfied: cycler>=0.10 in /usr/local/lib/python3.6/dist-packages (from matplotlib)\n",
      "Requirement already satisfied: pyparsing!=2.0.4,!=2.1.2,!=2.1.6,>=2.0.1 in /usr/local/lib/python3.6/dist-packages (from matplotlib)\n",
      "Requirement already satisfied: numpy>=1.11 in /usr/local/lib/python3.6/dist-packages (from matplotlib)\n",
      "Requirement already satisfied: kiwisolver>=1.0.1 in /usr/local/lib/python3.6/dist-packages (from matplotlib)\n",
      "Requirement already satisfied: six>=1.5 in /root/.local/lib/python3.6/site-packages (from python-dateutil>=2.1->matplotlib)\n",
      "Requirement already satisfied: nilearn in /usr/local/lib/python3.6/dist-packages\n",
      "Requirement already satisfied: scipy>=0.19 in /usr/local/lib/python3.6/dist-packages (from nilearn)\n",
      "Requirement already satisfied: sklearn in /usr/local/lib/python3.6/dist-packages (from nilearn)\n",
      "Requirement already satisfied: nibabel>=2.0.2 in /usr/local/lib/python3.6/dist-packages (from nilearn)\n",
      "Requirement already satisfied: joblib>=0.11 in /usr/local/lib/python3.6/dist-packages (from nilearn)\n",
      "Requirement already satisfied: scikit-learn>=0.19 in /usr/local/lib/python3.6/dist-packages (from nilearn)\n",
      "Requirement already satisfied: numpy>=1.11 in /usr/local/lib/python3.6/dist-packages (from nilearn)\n"
     ]
    }
   ],
   "source": [
    "!pip3 install matplotlib\n",
    "!pip3 install nilearn"
   ]
  },
  {
   "cell_type": "code",
   "execution_count": 16,
   "metadata": {},
   "outputs": [
    {
     "name": "stdout",
     "output_type": "stream",
     "text": [
      "Downloading data from http://data.pymvpa.org/datasets/haxby2001/subj1-2010.01.14.tar.gz ...\n"
     ]
    },
    {
     "name": "stderr",
     "output_type": "stream",
     "text": [
      "Downloaded 314803244 of 314803244 bytes (100.0%,    0.0s remaining) ...done. (731 seconds, 12 min)\n",
      "Extracting data from /root/nilearn_data/haxby2001/b7061e6dfd4459484ab7c3872d37e765/subj1-2010.01.14.tar.gz..... done.\n"
     ]
    },
    {
     "name": "stdout",
     "output_type": "stream",
     "text": [
      "First subject anatomical nifti image (3D) is at: /root/nilearn_data/haxby2001/subj1/anat.nii.gz\n",
      "First subject functional nifti image (4D) is at: /root/nilearn_data/haxby2001/subj1/bold.nii.gz\n"
     ]
    },
    {
     "data": {
      "image/png": "[encoded data removed]",
      "text/plain": [
       "<Figure size 288x388.8 with 1 Axes>"
      ]
     },
     "metadata": {},
     "output_type": "display_data"
    }
   ],
   "source": [
    "import matplotlib.pyplot as plt\n",
    "\n",
    "from nilearn import datasets\n",
    "haxby_dataset = datasets.fetch_haxby(subjects=1)\n",
    "\n",
    "# print basic information on the dataset\n",
    "print('First subject anatomical nifti image (3D) is at: %s' %\n",
    "      haxby_dataset.anat[0])\n",
    "print('First subject functional nifti image (4D) is at: %s' %\n",
    "      haxby_dataset.func[0])  # 4D data\n",
    "\n",
    "# Build the mean image because we have no anatomic data\n",
    "from nilearn import image\n",
    "func_filename = haxby_dataset.func[0]\n",
    "mean_img = image.mean_img(func_filename)\n",
    "\n",
    "z_slice = -14\n",
    "fig = plt.figure(figsize=(4,5.4), facecolor='k')\n",
    "\n",
    "from nilearn.plotting import plot_anat, show\n",
    "display = plot_anat(mean_img, display_mode = 'z', cut_coords=[z_slice], figure=fig)\n",
    "\n",
    "# all masks that you wish to see\n",
    "mask_vt_filename = haxby_dataset.mask_vt[0]\n",
    "mask_house_filename = haxby_dataset.mask_house[0]\n",
    "mask_face_filename = haxby_dataset.mask_face[0]\n",
    "\n",
    "display.add_contours(mask_vt_filename, contours=1, antialiased=False, linewidths=0.5, levels=[0], colors=['red'])\n",
    "display.add_contours(mask_house_filename, contours=1, antialiased=False, linewidths=0.5, levels=[0], colors=['blue'])\n",
    "display.add_contours(mask_face_filename, contours=1, antialiased=False, linewidths=0.5, levels=[0], colors=['limegreen'])\n",
    "\n",
    "from matplotlib.patches import Rectangle\n",
    "p_v = Rectangle((0,0), 1, 1, fc='red')\n",
    "p_h = Rectangle((0,0), 1, 1, fc='blue')\n",
    "p_f = Rectangle((0,0), 1, 1, fc='limegreen')\n",
    "plt.legend([p_v, p_h, p_f], ['vt', 'house', 'face'])\n",
    "\n",
    "show()"
   ]
  }
 ],
 "metadata": {
  "kernelspec": {
   "display_name": "Python 3",
   "language": "python",
   "name": "python3"
  },
  "language_info": {
   "codemirror_mode": {
    "name": "ipython",
    "version": 3
   },
   "file_extension": ".py",
   "mimetype": "text/x-python",
   "name": "python",
   "nbconvert_exporter": "python",
   "pygments_lexer": "ipython3",
   "version": "3.6.9"
  }
 },
 "nbformat": 4,
 "nbformat_minor": 4
}
